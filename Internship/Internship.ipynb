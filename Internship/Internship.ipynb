{
 "cells": [
  {
   "cell_type": "markdown",
   "id": "4f38ba60",
   "metadata": {},
   "source": [
    "### Libraries and Data Loading"
   ]
  },
  {
   "cell_type": "code",
   "execution_count": 1,
   "id": "c2531221",
   "metadata": {},
   "outputs": [],
   "source": [
    "import pandas as pd\n",
    "import numpy as np\n",
    "import plotly.express as px\n",
    "import plotly.io as pio\n",
    "import nltk\n",
    "import os\n",
    "\n",
    "from nltk.sentiment.vader import SentimentIntensityAnalyzer"
   ]
  },
  {
   "cell_type": "code",
   "execution_count": 2,
   "id": "8fd00788",
   "metadata": {},
   "outputs": [],
   "source": [
    "#Loading Data\n",
    "apps_df = pd.read_csv(\"../Training/Datasets/Play Store Data.csv\")\n",
    "review_df = pd.read_csv(\"../Training/Datasets/User Reviews.csv\")"
   ]
  },
  {
   "cell_type": "markdown",
   "id": "8827fb41",
   "metadata": {},
   "source": [
    "### Data wrangling of apps_df"
   ]
  },
  {
   "cell_type": "code",
   "execution_count": 3,
   "id": "e09344b4",
   "metadata": {},
   "outputs": [
    {
     "data": {
      "application/vnd.microsoft.datawrangler.viewer.v0+json": {
       "columns": [
        {
         "name": "index",
         "rawType": "int64",
         "type": "integer"
        },
        {
         "name": "App",
         "rawType": "object",
         "type": "string"
        },
        {
         "name": "Category",
         "rawType": "object",
         "type": "string"
        },
        {
         "name": "Rating",
         "rawType": "float64",
         "type": "float"
        },
        {
         "name": "Reviews",
         "rawType": "object",
         "type": "string"
        },
        {
         "name": "Size",
         "rawType": "object",
         "type": "string"
        },
        {
         "name": "Installs",
         "rawType": "object",
         "type": "string"
        },
        {
         "name": "Type",
         "rawType": "object",
         "type": "string"
        },
        {
         "name": "Price",
         "rawType": "object",
         "type": "string"
        },
        {
         "name": "Content Rating",
         "rawType": "object",
         "type": "string"
        },
        {
         "name": "Genres",
         "rawType": "object",
         "type": "string"
        },
        {
         "name": "Last Updated",
         "rawType": "object",
         "type": "string"
        },
        {
         "name": "Current Ver",
         "rawType": "object",
         "type": "string"
        },
        {
         "name": "Android Ver",
         "rawType": "object",
         "type": "string"
        }
       ],
       "ref": "e89db647-4fa5-4015-b488-a4f43240b0c6",
       "rows": [
        [
         "0",
         "Photo Editor & Candy Camera & Grid & ScrapBook",
         "ART_AND_DESIGN",
         "4.1",
         "159",
         "19M",
         "10,000+",
         "Free",
         "0",
         "Everyone",
         "Art & Design",
         "January 7, 2018",
         "1.0.0",
         "4.0.3 and up"
        ],
        [
         "1",
         "Coloring book moana",
         "ART_AND_DESIGN",
         "3.9",
         "967",
         "14M",
         "500,000+",
         "Free",
         "0",
         "Everyone",
         "Art & Design;Pretend Play",
         "January 15, 2018",
         "2.0.0",
         "4.0.3 and up"
        ],
        [
         "2",
         "U Launcher Lite – FREE Live Cool Themes, Hide Apps",
         "ART_AND_DESIGN",
         "4.7",
         "87510",
         "8.7M",
         "5,000,000+",
         "Free",
         "0",
         "Everyone",
         "Art & Design",
         "August 1, 2018",
         "1.2.4",
         "4.0.3 and up"
        ],
        [
         "3",
         "Sketch - Draw & Paint",
         "ART_AND_DESIGN",
         "4.5",
         "215644",
         "25M",
         "50,000,000+",
         "Free",
         "0",
         "Teen",
         "Art & Design",
         "June 8, 2018",
         "Varies with device",
         "4.2 and up"
        ],
        [
         "4",
         "Pixel Draw - Number Art Coloring Book",
         "ART_AND_DESIGN",
         "4.3",
         "967",
         "2.8M",
         "100,000+",
         "Free",
         "0",
         "Everyone",
         "Art & Design;Creativity",
         "June 20, 2018",
         "1.1",
         "4.4 and up"
        ]
       ],
       "shape": {
        "columns": 13,
        "rows": 5
       }
      },
      "text/html": [
       "<div>\n",
       "<style scoped>\n",
       "    .dataframe tbody tr th:only-of-type {\n",
       "        vertical-align: middle;\n",
       "    }\n",
       "\n",
       "    .dataframe tbody tr th {\n",
       "        vertical-align: top;\n",
       "    }\n",
       "\n",
       "    .dataframe thead th {\n",
       "        text-align: right;\n",
       "    }\n",
       "</style>\n",
       "<table border=\"1\" class=\"dataframe\">\n",
       "  <thead>\n",
       "    <tr style=\"text-align: right;\">\n",
       "      <th></th>\n",
       "      <th>App</th>\n",
       "      <th>Category</th>\n",
       "      <th>Rating</th>\n",
       "      <th>Reviews</th>\n",
       "      <th>Size</th>\n",
       "      <th>Installs</th>\n",
       "      <th>Type</th>\n",
       "      <th>Price</th>\n",
       "      <th>Content Rating</th>\n",
       "      <th>Genres</th>\n",
       "      <th>Last Updated</th>\n",
       "      <th>Current Ver</th>\n",
       "      <th>Android Ver</th>\n",
       "    </tr>\n",
       "  </thead>\n",
       "  <tbody>\n",
       "    <tr>\n",
       "      <th>0</th>\n",
       "      <td>Photo Editor &amp; Candy Camera &amp; Grid &amp; ScrapBook</td>\n",
       "      <td>ART_AND_DESIGN</td>\n",
       "      <td>4.1</td>\n",
       "      <td>159</td>\n",
       "      <td>19M</td>\n",
       "      <td>10,000+</td>\n",
       "      <td>Free</td>\n",
       "      <td>0</td>\n",
       "      <td>Everyone</td>\n",
       "      <td>Art &amp; Design</td>\n",
       "      <td>January 7, 2018</td>\n",
       "      <td>1.0.0</td>\n",
       "      <td>4.0.3 and up</td>\n",
       "    </tr>\n",
       "    <tr>\n",
       "      <th>1</th>\n",
       "      <td>Coloring book moana</td>\n",
       "      <td>ART_AND_DESIGN</td>\n",
       "      <td>3.9</td>\n",
       "      <td>967</td>\n",
       "      <td>14M</td>\n",
       "      <td>500,000+</td>\n",
       "      <td>Free</td>\n",
       "      <td>0</td>\n",
       "      <td>Everyone</td>\n",
       "      <td>Art &amp; Design;Pretend Play</td>\n",
       "      <td>January 15, 2018</td>\n",
       "      <td>2.0.0</td>\n",
       "      <td>4.0.3 and up</td>\n",
       "    </tr>\n",
       "    <tr>\n",
       "      <th>2</th>\n",
       "      <td>U Launcher Lite – FREE Live Cool Themes, Hide ...</td>\n",
       "      <td>ART_AND_DESIGN</td>\n",
       "      <td>4.7</td>\n",
       "      <td>87510</td>\n",
       "      <td>8.7M</td>\n",
       "      <td>5,000,000+</td>\n",
       "      <td>Free</td>\n",
       "      <td>0</td>\n",
       "      <td>Everyone</td>\n",
       "      <td>Art &amp; Design</td>\n",
       "      <td>August 1, 2018</td>\n",
       "      <td>1.2.4</td>\n",
       "      <td>4.0.3 and up</td>\n",
       "    </tr>\n",
       "    <tr>\n",
       "      <th>3</th>\n",
       "      <td>Sketch - Draw &amp; Paint</td>\n",
       "      <td>ART_AND_DESIGN</td>\n",
       "      <td>4.5</td>\n",
       "      <td>215644</td>\n",
       "      <td>25M</td>\n",
       "      <td>50,000,000+</td>\n",
       "      <td>Free</td>\n",
       "      <td>0</td>\n",
       "      <td>Teen</td>\n",
       "      <td>Art &amp; Design</td>\n",
       "      <td>June 8, 2018</td>\n",
       "      <td>Varies with device</td>\n",
       "      <td>4.2 and up</td>\n",
       "    </tr>\n",
       "    <tr>\n",
       "      <th>4</th>\n",
       "      <td>Pixel Draw - Number Art Coloring Book</td>\n",
       "      <td>ART_AND_DESIGN</td>\n",
       "      <td>4.3</td>\n",
       "      <td>967</td>\n",
       "      <td>2.8M</td>\n",
       "      <td>100,000+</td>\n",
       "      <td>Free</td>\n",
       "      <td>0</td>\n",
       "      <td>Everyone</td>\n",
       "      <td>Art &amp; Design;Creativity</td>\n",
       "      <td>June 20, 2018</td>\n",
       "      <td>1.1</td>\n",
       "      <td>4.4 and up</td>\n",
       "    </tr>\n",
       "  </tbody>\n",
       "</table>\n",
       "</div>"
      ],
      "text/plain": [
       "                                                 App        Category  Rating  \\\n",
       "0     Photo Editor & Candy Camera & Grid & ScrapBook  ART_AND_DESIGN     4.1   \n",
       "1                                Coloring book moana  ART_AND_DESIGN     3.9   \n",
       "2  U Launcher Lite – FREE Live Cool Themes, Hide ...  ART_AND_DESIGN     4.7   \n",
       "3                              Sketch - Draw & Paint  ART_AND_DESIGN     4.5   \n",
       "4              Pixel Draw - Number Art Coloring Book  ART_AND_DESIGN     4.3   \n",
       "\n",
       "  Reviews  Size     Installs  Type Price Content Rating  \\\n",
       "0     159   19M      10,000+  Free     0       Everyone   \n",
       "1     967   14M     500,000+  Free     0       Everyone   \n",
       "2   87510  8.7M   5,000,000+  Free     0       Everyone   \n",
       "3  215644   25M  50,000,000+  Free     0           Teen   \n",
       "4     967  2.8M     100,000+  Free     0       Everyone   \n",
       "\n",
       "                      Genres      Last Updated         Current Ver  \\\n",
       "0               Art & Design   January 7, 2018               1.0.0   \n",
       "1  Art & Design;Pretend Play  January 15, 2018               2.0.0   \n",
       "2               Art & Design    August 1, 2018               1.2.4   \n",
       "3               Art & Design      June 8, 2018  Varies with device   \n",
       "4    Art & Design;Creativity     June 20, 2018                 1.1   \n",
       "\n",
       "    Android Ver  \n",
       "0  4.0.3 and up  \n",
       "1  4.0.3 and up  \n",
       "2  4.0.3 and up  \n",
       "3    4.2 and up  \n",
       "4    4.4 and up  "
      ]
     },
     "execution_count": 3,
     "metadata": {},
     "output_type": "execute_result"
    }
   ],
   "source": [
    "apps_df.head()"
   ]
  },
  {
   "cell_type": "code",
   "execution_count": 4,
   "id": "c3b610b5",
   "metadata": {},
   "outputs": [
    {
     "name": "stdout",
     "output_type": "stream",
     "text": [
      "<class 'pandas.core.frame.DataFrame'>\n",
      "RangeIndex: 10841 entries, 0 to 10840\n",
      "Data columns (total 13 columns):\n",
      " #   Column          Non-Null Count  Dtype  \n",
      "---  ------          --------------  -----  \n",
      " 0   App             10841 non-null  object \n",
      " 1   Category        10841 non-null  object \n",
      " 2   Rating          9367 non-null   float64\n",
      " 3   Reviews         10841 non-null  object \n",
      " 4   Size            10841 non-null  object \n",
      " 5   Installs        10841 non-null  object \n",
      " 6   Type            10840 non-null  object \n",
      " 7   Price           10841 non-null  object \n",
      " 8   Content Rating  10840 non-null  object \n",
      " 9   Genres          10841 non-null  object \n",
      " 10  Last Updated    10841 non-null  object \n",
      " 11  Current Ver     10833 non-null  object \n",
      " 12  Android Ver     10838 non-null  object \n",
      "dtypes: float64(1), object(12)\n",
      "memory usage: 1.1+ MB\n"
     ]
    }
   ],
   "source": [
    "apps_df.info()"
   ]
  },
  {
   "cell_type": "code",
   "execution_count": 5,
   "id": "017018ea",
   "metadata": {},
   "outputs": [
    {
     "data": {
      "application/vnd.microsoft.datawrangler.viewer.v0+json": {
       "columns": [
        {
         "name": "index",
         "rawType": "object",
         "type": "string"
        },
        {
         "name": "0",
         "rawType": "int64",
         "type": "integer"
        }
       ],
       "ref": "baf72f56-dc4b-4d4a-ac3f-cb4da5532e92",
       "rows": [
        [
         "App",
         "0"
        ],
        [
         "Category",
         "0"
        ],
        [
         "Rating",
         "1474"
        ],
        [
         "Reviews",
         "0"
        ],
        [
         "Size",
         "0"
        ],
        [
         "Installs",
         "0"
        ],
        [
         "Type",
         "1"
        ],
        [
         "Price",
         "0"
        ],
        [
         "Content Rating",
         "1"
        ],
        [
         "Genres",
         "0"
        ],
        [
         "Last Updated",
         "0"
        ],
        [
         "Current Ver",
         "8"
        ],
        [
         "Android Ver",
         "3"
        ]
       ],
       "shape": {
        "columns": 1,
        "rows": 13
       }
      },
      "text/plain": [
       "App                  0\n",
       "Category             0\n",
       "Rating            1474\n",
       "Reviews              0\n",
       "Size                 0\n",
       "Installs             0\n",
       "Type                 1\n",
       "Price                0\n",
       "Content Rating       1\n",
       "Genres               0\n",
       "Last Updated         0\n",
       "Current Ver          8\n",
       "Android Ver          3\n",
       "dtype: int64"
      ]
     },
     "execution_count": 5,
     "metadata": {},
     "output_type": "execute_result"
    }
   ],
   "source": [
    "apps_df.isna().sum()"
   ]
  },
  {
   "cell_type": "code",
   "execution_count": 6,
   "id": "aee8a2f5",
   "metadata": {},
   "outputs": [],
   "source": [
    "apps_df = apps_df.dropna(subset='Rating')"
   ]
  },
  {
   "cell_type": "code",
   "execution_count": 7,
   "id": "259d2389",
   "metadata": {},
   "outputs": [
    {
     "name": "stderr",
     "output_type": "stream",
     "text": [
      "/tmp/ipykernel_23722/1893277888.py:2: FutureWarning: A value is trying to be set on a copy of a DataFrame or Series through chained assignment using an inplace method.\n",
      "The behavior will change in pandas 3.0. This inplace method will never work because the intermediate object on which we are setting values always behaves as a copy.\n",
      "\n",
      "For example, when doing 'df[col].method(value, inplace=True)', try using 'df.method({col: value}, inplace=True)' or df[col] = df[col].method(value) instead, to perform the operation inplace on the original object.\n",
      "\n",
      "\n",
      "  apps_df[col].fillna(apps_df[col].mode()[0], inplace=True)\n"
     ]
    }
   ],
   "source": [
    "for col in apps_df.columns:\n",
    "    apps_df[col].fillna(apps_df[col].mode()[0], inplace=True)\n",
    "\n",
    "apps_df.drop_duplicates(inplace=True)\n",
    "\n",
    "apps_df=apps_df[apps_df['Rating'] <= 5]"
   ]
  },
  {
   "cell_type": "code",
   "execution_count": 8,
   "id": "056f0ddf",
   "metadata": {},
   "outputs": [],
   "source": [
    "apps_df['Rating'] = apps_df['Rating'].astype(float) # converts rating to float"
   ]
  },
  {
   "cell_type": "code",
   "execution_count": 9,
   "id": "24190870",
   "metadata": {},
   "outputs": [],
   "source": [
    "apps_df['Installs'] = apps_df['Installs'].str.replace('+', '').str.replace(',', '').astype(int) # converts installs to int by removing +, these will be the minimum number of installs."
   ]
  },
  {
   "cell_type": "code",
   "execution_count": 10,
   "id": "09efaadf",
   "metadata": {},
   "outputs": [],
   "source": [
    "apps_df['Price'] = apps_df['Price'].str.replace('$', '').astype(float) # converts price to float"
   ]
  },
  {
   "cell_type": "code",
   "execution_count": 11,
   "id": "3629f035",
   "metadata": {},
   "outputs": [],
   "source": [
    "apps_df['Reviews'] = apps_df['Reviews'].astype(int) # converts reviews to int"
   ]
  },
  {
   "cell_type": "code",
   "execution_count": 12,
   "id": "97cc2511",
   "metadata": {},
   "outputs": [],
   "source": [
    "apps_df[\"Log Installs\"] = np.log(apps_df[\"Installs\"])\n",
    "apps_df['Log Reviews'] = np.log(apps_df['Reviews'])"
   ]
  },
  {
   "cell_type": "code",
   "execution_count": 13,
   "id": "2de82f6d",
   "metadata": {},
   "outputs": [],
   "source": [
    "def convert_size(size):\n",
    "    if \"M\" in size:\n",
    "        return float(size.replace(\"M\", \"\").replace(\"m\", \"\"))\n",
    "    elif \"K\" in size:\n",
    "        return float(size.replace(\"K\", \"\").replace(\"k\", \"\")) / 1024\n",
    "    else:\n",
    "        return np.nan\n",
    "    \n",
    "apps_df['Size'] = apps_df['Size'].apply(convert_size)"
   ]
  },
  {
   "cell_type": "code",
   "execution_count": 14,
   "id": "89ac0813",
   "metadata": {},
   "outputs": [],
   "source": [
    "apps_df = apps_df.convert_dtypes() # automatically converts data types"
   ]
  },
  {
   "cell_type": "code",
   "execution_count": 15,
   "id": "12349811",
   "metadata": {},
   "outputs": [
    {
     "data": {
      "application/vnd.microsoft.datawrangler.viewer.v0+json": {
       "columns": [
        {
         "name": "index",
         "rawType": "int64",
         "type": "integer"
        },
        {
         "name": "App",
         "rawType": "string",
         "type": "string"
        },
        {
         "name": "Category",
         "rawType": "string",
         "type": "string"
        },
        {
         "name": "Rating",
         "rawType": "Float64",
         "type": "float"
        },
        {
         "name": "Reviews",
         "rawType": "Int64",
         "type": "integer"
        },
        {
         "name": "Size",
         "rawType": "Float64",
         "type": "float"
        },
        {
         "name": "Installs",
         "rawType": "Int64",
         "type": "integer"
        },
        {
         "name": "Type",
         "rawType": "string",
         "type": "string"
        },
        {
         "name": "Price",
         "rawType": "Float64",
         "type": "float"
        },
        {
         "name": "Content Rating",
         "rawType": "string",
         "type": "string"
        },
        {
         "name": "Genres",
         "rawType": "string",
         "type": "string"
        },
        {
         "name": "Last Updated",
         "rawType": "string",
         "type": "string"
        },
        {
         "name": "Current Ver",
         "rawType": "string",
         "type": "string"
        },
        {
         "name": "Android Ver",
         "rawType": "string",
         "type": "string"
        },
        {
         "name": "Log Installs",
         "rawType": "Float64",
         "type": "float"
        },
        {
         "name": "Log Reviews",
         "rawType": "Float64",
         "type": "float"
        }
       ],
       "ref": "d6f96db2-5e9e-4426-88ac-c0bfa52bf953",
       "rows": [
        [
         "0",
         "Photo Editor & Candy Camera & Grid & ScrapBook",
         "ART_AND_DESIGN",
         "4.1",
         "159",
         "19.0",
         "10000",
         "Free",
         "0.0",
         "Everyone",
         "Art & Design",
         "January 7, 2018",
         "1.0.0",
         "4.0.3 and up",
         "9.210340371976184",
         "5.0689042022202315"
        ],
        [
         "1",
         "Coloring book moana",
         "ART_AND_DESIGN",
         "3.9",
         "967",
         "14.0",
         "500000",
         "Free",
         "0.0",
         "Everyone",
         "Art & Design;Pretend Play",
         "January 15, 2018",
         "2.0.0",
         "4.0.3 and up",
         "13.122363377404328",
         "6.874198495453294"
        ],
        [
         "2",
         "U Launcher Lite – FREE Live Cool Themes, Hide Apps",
         "ART_AND_DESIGN",
         "4.7",
         "87510",
         "8.7",
         "5000000",
         "Free",
         "0.0",
         "Everyone",
         "Art & Design",
         "August 1, 2018",
         "1.2.4",
         "4.0.3 and up",
         "15.424948470398375",
         "11.379508351529877"
        ],
        [
         "3",
         "Sketch - Draw & Paint",
         "ART_AND_DESIGN",
         "4.5",
         "215644",
         "25.0",
         "50000000",
         "Free",
         "0.0",
         "Teen",
         "Art & Design",
         "June 8, 2018",
         "Varies with device",
         "4.2 and up",
         "17.72753356339242",
         "12.281384178827809"
        ],
        [
         "4",
         "Pixel Draw - Number Art Coloring Book",
         "ART_AND_DESIGN",
         "4.3",
         "967",
         "2.8",
         "100000",
         "Free",
         "0.0",
         "Everyone",
         "Art & Design;Creativity",
         "June 20, 2018",
         "1.1",
         "4.4 and up",
         "11.512925464970229",
         "6.874198495453294"
        ],
        [
         "5",
         "Paper flowers instructions",
         "ART_AND_DESIGN",
         "4.4",
         "167",
         "5.6",
         "50000",
         "Free",
         "0.0",
         "Everyone",
         "Art & Design",
         "March 26, 2017",
         "1.0",
         "2.3 and up",
         "10.819778284410283",
         "5.117993812416755"
        ],
        [
         "6",
         "Smoke Effect Photo Maker - Smoke Editor",
         "ART_AND_DESIGN",
         "3.8",
         "178",
         "19.0",
         "50000",
         "Free",
         "0.0",
         "Everyone",
         "Art & Design",
         "April 26, 2018",
         "1.1",
         "4.0.3 and up",
         "10.819778284410283",
         "5.181783550292085"
        ],
        [
         "7",
         "Infinite Painter",
         "ART_AND_DESIGN",
         "4.1",
         "36815",
         "29.0",
         "1000000",
         "Free",
         "0.0",
         "Everyone",
         "Art & Design",
         "June 14, 2018",
         "6.1.61.1",
         "4.2 and up",
         "13.815510557964274",
         "10.513660649802818"
        ],
        [
         "8",
         "Garden Coloring Book",
         "ART_AND_DESIGN",
         "4.4",
         "13791",
         "33.0",
         "1000000",
         "Free",
         "0.0",
         "Everyone",
         "Art & Design",
         "September 20, 2017",
         "2.9.2",
         "3.0 and up",
         "13.815510557964274",
         "9.531771484474337"
        ],
        [
         "9",
         "Kids Paint Free - Drawing Fun",
         "ART_AND_DESIGN",
         "4.7",
         "121",
         "3.1",
         "10000",
         "Free",
         "0.0",
         "Everyone",
         "Art & Design;Creativity",
         "July 3, 2018",
         "2.8",
         "4.0.3 and up",
         "9.210340371976184",
         "4.795790545596741"
        ],
        [
         "10",
         "Text on Photo - Fonteee",
         "ART_AND_DESIGN",
         "4.4",
         "13880",
         "28.0",
         "1000000",
         "Free",
         "0.0",
         "Everyone",
         "Art & Design",
         "October 27, 2017",
         "1.0.4",
         "4.1 and up",
         "13.815510557964274",
         "9.538204234060796"
        ],
        [
         "11",
         "Name Art Photo Editor - Focus n Filters",
         "ART_AND_DESIGN",
         "4.4",
         "8788",
         "12.0",
         "1000000",
         "Free",
         "0.0",
         "Everyone",
         "Art & Design",
         "July 31, 2018",
         "1.0.15",
         "4.0 and up",
         "13.815510557964274",
         "9.081142433504501"
        ],
        [
         "12",
         "Tattoo Name On My Photo Editor",
         "ART_AND_DESIGN",
         "4.2",
         "44829",
         "20.0",
         "10000000",
         "Free",
         "0.0",
         "Teen",
         "Art & Design",
         "April 2, 2018",
         "3.8",
         "4.1 and up",
         "16.11809565095832",
         "10.710610530409502"
        ],
        [
         "13",
         "Mandala Coloring Book",
         "ART_AND_DESIGN",
         "4.6",
         "4326",
         "21.0",
         "100000",
         "Free",
         "0.0",
         "Everyone",
         "Art & Design",
         "June 26, 2018",
         "1.0.4",
         "4.4 and up",
         "11.512925464970229",
         "8.372398606513004"
        ],
        [
         "14",
         "3D Color Pixel by Number - Sandbox Art Coloring",
         "ART_AND_DESIGN",
         "4.4",
         "1518",
         "37.0",
         "100000",
         "Free",
         "0.0",
         "Everyone",
         "Art & Design",
         "August 3, 2018",
         "1.2.3",
         "2.3 and up",
         "11.512925464970229",
         "7.325148957955575"
        ],
        [
         "15",
         "Learn To Draw Kawaii Characters",
         "ART_AND_DESIGN",
         "3.2",
         "55",
         "2.7",
         "5000",
         "Free",
         "0.0",
         "Everyone",
         "Art & Design",
         "June 6, 2018",
         "Varies with device",
         "4.2 and up",
         "8.517193191416238",
         "4.007333185232471"
        ],
        [
         "16",
         "Photo Designer - Write your name with shapes",
         "ART_AND_DESIGN",
         "4.7",
         "3632",
         "5.5",
         "500000",
         "Free",
         "0.0",
         "Everyone",
         "Art & Design",
         "July 31, 2018",
         "3.1",
         "4.1 and up",
         "13.122363377404328",
         "8.197538739721184"
        ],
        [
         "17",
         "350 Diy Room Decor Ideas",
         "ART_AND_DESIGN",
         "4.5",
         "27",
         "17.0",
         "10000",
         "Free",
         "0.0",
         "Everyone",
         "Art & Design",
         "November 7, 2017",
         "1.0",
         "2.3 and up",
         "9.210340371976184",
         "3.295836866004329"
        ],
        [
         "18",
         "FlipaClip - Cartoon animation",
         "ART_AND_DESIGN",
         "4.3",
         "194216",
         "39.0",
         "5000000",
         "Free",
         "0.0",
         "Everyone",
         "Art & Design",
         "August 3, 2018",
         "2.2.5",
         "4.0.3 and up",
         "15.424948470398375",
         "12.176726220734944"
        ],
        [
         "19",
         "ibis Paint X",
         "ART_AND_DESIGN",
         "4.6",
         "224399",
         "31.0",
         "10000000",
         "Free",
         "0.0",
         "Everyone",
         "Art & Design",
         "July 30, 2018",
         "5.5.4",
         "4.1 and up",
         "16.11809565095832",
         "12.321180996292764"
        ],
        [
         "20",
         "Logo Maker - Small Business",
         "ART_AND_DESIGN",
         "4.0",
         "450",
         "14.0",
         "100000",
         "Free",
         "0.0",
         "Everyone",
         "Art & Design",
         "April 20, 2018",
         "4.0",
         "4.1 and up",
         "11.512925464970229",
         "6.1092475827643655"
        ],
        [
         "21",
         "Boys Photo Editor - Six Pack & Men's Suit",
         "ART_AND_DESIGN",
         "4.1",
         "654",
         "12.0",
         "100000",
         "Free",
         "0.0",
         "Everyone",
         "Art & Design",
         "March 20, 2018",
         "1.1",
         "4.0.3 and up",
         "11.512925464970229",
         "6.483107351457199"
        ],
        [
         "22",
         "Superheroes Wallpapers | 4K Backgrounds",
         "ART_AND_DESIGN",
         "4.7",
         "7699",
         "4.2",
         "500000",
         "Free",
         "0.0",
         "Everyone 10+",
         "Art & Design",
         "July 12, 2018",
         "2.2.6.2",
         "4.0.3 and up",
         "13.122363377404328",
         "8.94884572927805"
        ],
        [
         "24",
         "HD Mickey Minnie Wallpapers",
         "ART_AND_DESIGN",
         "4.7",
         "118",
         "23.0",
         "50000",
         "Free",
         "0.0",
         "Everyone",
         "Art & Design",
         "July 7, 2018",
         "1.1.3",
         "4.1 and up",
         "10.819778284410283",
         "4.770684624465665"
        ],
        [
         "25",
         "Harley Quinn wallpapers HD",
         "ART_AND_DESIGN",
         "4.8",
         "192",
         "6.0",
         "10000",
         "Free",
         "0.0",
         "Everyone",
         "Art & Design",
         "April 25, 2018",
         "1.5",
         "3.0 and up",
         "9.210340371976184",
         "5.2574953720277815"
        ],
        [
         "26",
         "Colorfit - Drawing & Coloring",
         "ART_AND_DESIGN",
         "4.7",
         "20260",
         "25.0",
         "500000",
         "Free",
         "0.0",
         "Everyone",
         "Art & Design;Creativity",
         "October 11, 2017",
         "1.0.8",
         "4.0.3 and up",
         "13.122363377404328",
         "9.916403777802675"
        ],
        [
         "27",
         "Animated Photo Editor",
         "ART_AND_DESIGN",
         "4.1",
         "203",
         "6.1",
         "100000",
         "Free",
         "0.0",
         "Everyone",
         "Art & Design",
         "March 21, 2018",
         "1.03",
         "4.0.3 and up",
         "11.512925464970229",
         "5.313205979041787"
        ],
        [
         "28",
         "Pencil Sketch Drawing",
         "ART_AND_DESIGN",
         "3.9",
         "136",
         "4.6",
         "10000",
         "Free",
         "0.0",
         "Everyone",
         "Art & Design",
         "July 12, 2018",
         "6.0",
         "2.3 and up",
         "9.210340371976184",
         "4.912654885736052"
        ],
        [
         "29",
         "Easy Realistic Drawing Tutorial",
         "ART_AND_DESIGN",
         "4.1",
         "223",
         "4.2",
         "100000",
         "Free",
         "0.0",
         "Everyone",
         "Art & Design",
         "August 22, 2017",
         "1.0",
         "2.3 and up",
         "11.512925464970229",
         "5.407171771460119"
        ],
        [
         "30",
         "Pink Silver Bow Keyboard Theme",
         "ART_AND_DESIGN",
         "4.2",
         "1120",
         "9.2",
         "100000",
         "Free",
         "0.0",
         "Everyone",
         "Art & Design",
         "July 12, 2018",
         "6.7.12.2018",
         "4.0.3 and up",
         "11.512925464970229",
         "7.02108396428914"
        ],
        [
         "31",
         "Art Drawing Ideas",
         "ART_AND_DESIGN",
         "4.1",
         "227",
         "5.2",
         "50000",
         "Free",
         "0.0",
         "Everyone",
         "Art & Design",
         "May 31, 2018",
         "1.2",
         "2.3 and up",
         "10.819778284410283",
         "5.424950017481403"
        ],
        [
         "32",
         "Anime Manga Coloring Book",
         "ART_AND_DESIGN",
         "4.5",
         "5035",
         "11.0",
         "100000",
         "Free",
         "0.0",
         "Everyone",
         "Art & Design",
         "July 19, 2018",
         "2.20",
         "4.0 and up",
         "11.512925464970229",
         "8.524168805152662"
        ],
        [
         "33",
         "Easy Origami Ideas",
         "ART_AND_DESIGN",
         "4.2",
         "1015",
         "11.0",
         "100000",
         "Free",
         "0.0",
         "Everyone",
         "Art & Design",
         "January 6, 2018",
         "1.1.0",
         "4.1 and up",
         "11.512925464970229",
         "6.922643891475888"
        ],
        [
         "34",
         "I Creative Idea",
         "ART_AND_DESIGN",
         "4.7",
         "353",
         "4.2",
         "10000",
         "Free",
         "0.0",
         "Teen",
         "Art & Design",
         "April 27, 2018",
         "1.6",
         "4.1 and up",
         "9.210340371976184",
         "5.8664680569332965"
        ],
        [
         "35",
         "How to draw Ladybug and Cat Noir",
         "ART_AND_DESIGN",
         "3.8",
         "564",
         "9.2",
         "100000",
         "Free",
         "0.0",
         "Everyone",
         "Art & Design",
         "July 11, 2018",
         "2.1",
         "4.1 and up",
         "11.512925464970229",
         "6.335054251498059"
        ],
        [
         "36",
         "UNICORN - Color By Number & Pixel Art Coloring",
         "ART_AND_DESIGN",
         "4.7",
         "8145",
         "24.0",
         "500000",
         "Free",
         "0.0",
         "Everyone",
         "Art & Design;Creativity",
         "August 2, 2018",
         "1.0.9",
         "4.4 and up",
         "13.122363377404328",
         "9.005159521036145"
        ],
        [
         "37",
         "Floor Plan Creator",
         "ART_AND_DESIGN",
         "4.1",
         "36639",
         null,
         "5000000",
         "Free",
         "0.0",
         "Everyone",
         "Art & Design",
         "July 14, 2018",
         "Varies with device",
         "2.3.3 and up",
         "15.424948470398375",
         "10.508868525839198"
        ],
        [
         "38",
         "PIP Camera - PIP Collage Maker",
         "ART_AND_DESIGN",
         "4.7",
         "158",
         "11.0",
         "10000",
         "Free",
         "0.0",
         "Everyone",
         "Art & Design",
         "November 29, 2017",
         "1.3",
         "4.0.3 and up",
         "9.210340371976184",
         "5.062595033026967"
        ],
        [
         "39",
         "How To Color Disney Princess - Coloring Pages",
         "ART_AND_DESIGN",
         "4.0",
         "591",
         "9.4",
         "500000",
         "Free",
         "0.0",
         "Everyone",
         "Art & Design",
         "March 31, 2018",
         "1",
         "4.0 and up",
         "13.122363377404328",
         "6.3818160174060985"
        ],
        [
         "40",
         "Drawing Clothes Fashion Ideas",
         "ART_AND_DESIGN",
         "4.2",
         "117",
         "15.0",
         "10000",
         "Free",
         "0.0",
         "Everyone",
         "Art & Design",
         "July 20, 2018",
         "2.0.1",
         "4.0.3 and up",
         "9.210340371976184",
         "4.762173934797756"
        ],
        [
         "41",
         "Sad Poetry Photo Frames 2018",
         "ART_AND_DESIGN",
         "4.5",
         "176",
         "10.0",
         "100000",
         "Free",
         "0.0",
         "Everyone",
         "Art & Design",
         "April 2, 2018",
         "1.0",
         "4.0.3 and up",
         "11.512925464970229",
         "5.170483995038151"
        ],
        [
         "42",
         "Textgram - write on photos",
         "ART_AND_DESIGN",
         "4.4",
         "295221",
         null,
         "10000000",
         "Free",
         "0.0",
         "Everyone",
         "Art & Design",
         "July 30, 2018",
         "Varies with device",
         "Varies with device",
         "16.11809565095832",
         "12.595479507389634"
        ],
        [
         "43",
         "Paint Splash!",
         "ART_AND_DESIGN",
         "3.8",
         "2206",
         "1.2",
         "100000",
         "Free",
         "0.0",
         "Everyone",
         "Art & Design;Creativity",
         "April 15, 2018",
         "1.46",
         "4.1 and up",
         "11.512925464970229",
         "7.698936199813447"
        ],
        [
         "44",
         "Popsicle Sticks and Similar DIY Craft Ideas",
         "ART_AND_DESIGN",
         "4.2",
         "26",
         "12.0",
         "10000",
         "Free",
         "0.0",
         "Everyone",
         "Art & Design",
         "January 3, 2018",
         "1.0.0",
         "4.1 and up",
         "9.210340371976184",
         "3.258096538021482"
        ],
        [
         "45",
         "Canva: Poster, banner, card maker & graphic design",
         "ART_AND_DESIGN",
         "4.7",
         "174531",
         "24.0",
         "10000000",
         "Free",
         "0.0",
         "Everyone",
         "Art & Design",
         "July 31, 2018",
         "1.6.1",
         "4.1 and up",
         "16.11809565095832",
         "12.069857655276449"
        ],
        [
         "46",
         "Install images with music to make video without Net - 2018",
         "ART_AND_DESIGN",
         "4.6",
         "1070",
         "26.0",
         "100000",
         "Free",
         "0.0",
         "Everyone",
         "Art & Design",
         "November 14, 2017",
         "1.6",
         "4.1 and up",
         "11.512925464970229",
         "6.975413927455952"
        ],
        [
         "47",
         "Little Teddy Bear Colouring Book Game",
         "ART_AND_DESIGN",
         "4.2",
         "85",
         "8.0",
         "100000",
         "Free",
         "0.0",
         "Everyone",
         "Art & Design",
         "December 17, 2017",
         "2.0.0",
         "4.1 and up",
         "11.512925464970229",
         "4.442651256490317"
        ],
        [
         "48",
         "How To Draw Food",
         "ART_AND_DESIGN",
         "4.3",
         "845",
         "7.9",
         "100000",
         "Free",
         "0.0",
         "Everyone",
         "Art & Design",
         "May 28, 2018",
         "1.0",
         "2.3 and up",
         "11.512925464970229",
         "6.739336627357174"
        ],
        [
         "49",
         "Monster Truck Stunt 3D 2019",
         "AUTO_AND_VEHICLES",
         "4.2",
         "367",
         "25.0",
         "100000",
         "Free",
         "0.0",
         "Everyone",
         "Auto & Vehicles",
         "May 10, 2018",
         "1.0",
         "4.0.3 and up",
         "11.512925464970229",
         "5.905361848054571"
        ],
        [
         "50",
         "Real Tractor Farming",
         "AUTO_AND_VEHICLES",
         "4.0",
         "1598",
         "56.0",
         "1000000",
         "Free",
         "0.0",
         "Everyone",
         "Auto & Vehicles",
         "July 26, 2018",
         "11.0",
         "4.1 and up",
         "13.815510557964274",
         "7.37650812632622"
        ]
       ],
       "shape": {
        "columns": 15,
        "rows": 8892
       }
      },
      "text/html": [
       "<div>\n",
       "<style scoped>\n",
       "    .dataframe tbody tr th:only-of-type {\n",
       "        vertical-align: middle;\n",
       "    }\n",
       "\n",
       "    .dataframe tbody tr th {\n",
       "        vertical-align: top;\n",
       "    }\n",
       "\n",
       "    .dataframe thead th {\n",
       "        text-align: right;\n",
       "    }\n",
       "</style>\n",
       "<table border=\"1\" class=\"dataframe\">\n",
       "  <thead>\n",
       "    <tr style=\"text-align: right;\">\n",
       "      <th></th>\n",
       "      <th>App</th>\n",
       "      <th>Category</th>\n",
       "      <th>Rating</th>\n",
       "      <th>Reviews</th>\n",
       "      <th>Size</th>\n",
       "      <th>Installs</th>\n",
       "      <th>Type</th>\n",
       "      <th>Price</th>\n",
       "      <th>Content Rating</th>\n",
       "      <th>Genres</th>\n",
       "      <th>Last Updated</th>\n",
       "      <th>Current Ver</th>\n",
       "      <th>Android Ver</th>\n",
       "      <th>Log Installs</th>\n",
       "      <th>Log Reviews</th>\n",
       "    </tr>\n",
       "  </thead>\n",
       "  <tbody>\n",
       "    <tr>\n",
       "      <th>0</th>\n",
       "      <td>Photo Editor &amp; Candy Camera &amp; Grid &amp; ScrapBook</td>\n",
       "      <td>ART_AND_DESIGN</td>\n",
       "      <td>4.1</td>\n",
       "      <td>159</td>\n",
       "      <td>19.0</td>\n",
       "      <td>10000</td>\n",
       "      <td>Free</td>\n",
       "      <td>0.0</td>\n",
       "      <td>Everyone</td>\n",
       "      <td>Art &amp; Design</td>\n",
       "      <td>January 7, 2018</td>\n",
       "      <td>1.0.0</td>\n",
       "      <td>4.0.3 and up</td>\n",
       "      <td>9.21034</td>\n",
       "      <td>5.068904</td>\n",
       "    </tr>\n",
       "    <tr>\n",
       "      <th>1</th>\n",
       "      <td>Coloring book moana</td>\n",
       "      <td>ART_AND_DESIGN</td>\n",
       "      <td>3.9</td>\n",
       "      <td>967</td>\n",
       "      <td>14.0</td>\n",
       "      <td>500000</td>\n",
       "      <td>Free</td>\n",
       "      <td>0.0</td>\n",
       "      <td>Everyone</td>\n",
       "      <td>Art &amp; Design;Pretend Play</td>\n",
       "      <td>January 15, 2018</td>\n",
       "      <td>2.0.0</td>\n",
       "      <td>4.0.3 and up</td>\n",
       "      <td>13.122363</td>\n",
       "      <td>6.874198</td>\n",
       "    </tr>\n",
       "    <tr>\n",
       "      <th>2</th>\n",
       "      <td>U Launcher Lite – FREE Live Cool Themes, Hide ...</td>\n",
       "      <td>ART_AND_DESIGN</td>\n",
       "      <td>4.7</td>\n",
       "      <td>87510</td>\n",
       "      <td>8.7</td>\n",
       "      <td>5000000</td>\n",
       "      <td>Free</td>\n",
       "      <td>0.0</td>\n",
       "      <td>Everyone</td>\n",
       "      <td>Art &amp; Design</td>\n",
       "      <td>August 1, 2018</td>\n",
       "      <td>1.2.4</td>\n",
       "      <td>4.0.3 and up</td>\n",
       "      <td>15.424948</td>\n",
       "      <td>11.379508</td>\n",
       "    </tr>\n",
       "    <tr>\n",
       "      <th>3</th>\n",
       "      <td>Sketch - Draw &amp; Paint</td>\n",
       "      <td>ART_AND_DESIGN</td>\n",
       "      <td>4.5</td>\n",
       "      <td>215644</td>\n",
       "      <td>25.0</td>\n",
       "      <td>50000000</td>\n",
       "      <td>Free</td>\n",
       "      <td>0.0</td>\n",
       "      <td>Teen</td>\n",
       "      <td>Art &amp; Design</td>\n",
       "      <td>June 8, 2018</td>\n",
       "      <td>Varies with device</td>\n",
       "      <td>4.2 and up</td>\n",
       "      <td>17.727534</td>\n",
       "      <td>12.281384</td>\n",
       "    </tr>\n",
       "    <tr>\n",
       "      <th>4</th>\n",
       "      <td>Pixel Draw - Number Art Coloring Book</td>\n",
       "      <td>ART_AND_DESIGN</td>\n",
       "      <td>4.3</td>\n",
       "      <td>967</td>\n",
       "      <td>2.8</td>\n",
       "      <td>100000</td>\n",
       "      <td>Free</td>\n",
       "      <td>0.0</td>\n",
       "      <td>Everyone</td>\n",
       "      <td>Art &amp; Design;Creativity</td>\n",
       "      <td>June 20, 2018</td>\n",
       "      <td>1.1</td>\n",
       "      <td>4.4 and up</td>\n",
       "      <td>11.512925</td>\n",
       "      <td>6.874198</td>\n",
       "    </tr>\n",
       "    <tr>\n",
       "      <th>...</th>\n",
       "      <td>...</td>\n",
       "      <td>...</td>\n",
       "      <td>...</td>\n",
       "      <td>...</td>\n",
       "      <td>...</td>\n",
       "      <td>...</td>\n",
       "      <td>...</td>\n",
       "      <td>...</td>\n",
       "      <td>...</td>\n",
       "      <td>...</td>\n",
       "      <td>...</td>\n",
       "      <td>...</td>\n",
       "      <td>...</td>\n",
       "      <td>...</td>\n",
       "      <td>...</td>\n",
       "    </tr>\n",
       "    <tr>\n",
       "      <th>10834</th>\n",
       "      <td>FR Calculator</td>\n",
       "      <td>FAMILY</td>\n",
       "      <td>4.0</td>\n",
       "      <td>7</td>\n",
       "      <td>2.6</td>\n",
       "      <td>500</td>\n",
       "      <td>Free</td>\n",
       "      <td>0.0</td>\n",
       "      <td>Everyone</td>\n",
       "      <td>Education</td>\n",
       "      <td>June 18, 2017</td>\n",
       "      <td>1.0.0</td>\n",
       "      <td>4.1 and up</td>\n",
       "      <td>6.214608</td>\n",
       "      <td>1.94591</td>\n",
       "    </tr>\n",
       "    <tr>\n",
       "      <th>10836</th>\n",
       "      <td>Sya9a Maroc - FR</td>\n",
       "      <td>FAMILY</td>\n",
       "      <td>4.5</td>\n",
       "      <td>38</td>\n",
       "      <td>53.0</td>\n",
       "      <td>5000</td>\n",
       "      <td>Free</td>\n",
       "      <td>0.0</td>\n",
       "      <td>Everyone</td>\n",
       "      <td>Education</td>\n",
       "      <td>July 25, 2017</td>\n",
       "      <td>1.48</td>\n",
       "      <td>4.1 and up</td>\n",
       "      <td>8.517193</td>\n",
       "      <td>3.637586</td>\n",
       "    </tr>\n",
       "    <tr>\n",
       "      <th>10837</th>\n",
       "      <td>Fr. Mike Schmitz Audio Teachings</td>\n",
       "      <td>FAMILY</td>\n",
       "      <td>5.0</td>\n",
       "      <td>4</td>\n",
       "      <td>3.6</td>\n",
       "      <td>100</td>\n",
       "      <td>Free</td>\n",
       "      <td>0.0</td>\n",
       "      <td>Everyone</td>\n",
       "      <td>Education</td>\n",
       "      <td>July 6, 2018</td>\n",
       "      <td>1.0</td>\n",
       "      <td>4.1 and up</td>\n",
       "      <td>4.60517</td>\n",
       "      <td>1.386294</td>\n",
       "    </tr>\n",
       "    <tr>\n",
       "      <th>10839</th>\n",
       "      <td>The SCP Foundation DB fr nn5n</td>\n",
       "      <td>BOOKS_AND_REFERENCE</td>\n",
       "      <td>4.5</td>\n",
       "      <td>114</td>\n",
       "      <td>&lt;NA&gt;</td>\n",
       "      <td>1000</td>\n",
       "      <td>Free</td>\n",
       "      <td>0.0</td>\n",
       "      <td>Mature 17+</td>\n",
       "      <td>Books &amp; Reference</td>\n",
       "      <td>January 19, 2015</td>\n",
       "      <td>Varies with device</td>\n",
       "      <td>Varies with device</td>\n",
       "      <td>6.907755</td>\n",
       "      <td>4.736198</td>\n",
       "    </tr>\n",
       "    <tr>\n",
       "      <th>10840</th>\n",
       "      <td>iHoroscope - 2018 Daily Horoscope &amp; Astrology</td>\n",
       "      <td>LIFESTYLE</td>\n",
       "      <td>4.5</td>\n",
       "      <td>398307</td>\n",
       "      <td>19.0</td>\n",
       "      <td>10000000</td>\n",
       "      <td>Free</td>\n",
       "      <td>0.0</td>\n",
       "      <td>Everyone</td>\n",
       "      <td>Lifestyle</td>\n",
       "      <td>July 25, 2018</td>\n",
       "      <td>Varies with device</td>\n",
       "      <td>Varies with device</td>\n",
       "      <td>16.118096</td>\n",
       "      <td>12.894978</td>\n",
       "    </tr>\n",
       "  </tbody>\n",
       "</table>\n",
       "<p>8892 rows × 15 columns</p>\n",
       "</div>"
      ],
      "text/plain": [
       "                                                     App             Category  \\\n",
       "0         Photo Editor & Candy Camera & Grid & ScrapBook       ART_AND_DESIGN   \n",
       "1                                    Coloring book moana       ART_AND_DESIGN   \n",
       "2      U Launcher Lite – FREE Live Cool Themes, Hide ...       ART_AND_DESIGN   \n",
       "3                                  Sketch - Draw & Paint       ART_AND_DESIGN   \n",
       "4                  Pixel Draw - Number Art Coloring Book       ART_AND_DESIGN   \n",
       "...                                                  ...                  ...   \n",
       "10834                                      FR Calculator               FAMILY   \n",
       "10836                                   Sya9a Maroc - FR               FAMILY   \n",
       "10837                   Fr. Mike Schmitz Audio Teachings               FAMILY   \n",
       "10839                      The SCP Foundation DB fr nn5n  BOOKS_AND_REFERENCE   \n",
       "10840      iHoroscope - 2018 Daily Horoscope & Astrology            LIFESTYLE   \n",
       "\n",
       "       Rating  Reviews  Size  Installs  Type  Price Content Rating  \\\n",
       "0         4.1      159  19.0     10000  Free    0.0       Everyone   \n",
       "1         3.9      967  14.0    500000  Free    0.0       Everyone   \n",
       "2         4.7    87510   8.7   5000000  Free    0.0       Everyone   \n",
       "3         4.5   215644  25.0  50000000  Free    0.0           Teen   \n",
       "4         4.3      967   2.8    100000  Free    0.0       Everyone   \n",
       "...       ...      ...   ...       ...   ...    ...            ...   \n",
       "10834     4.0        7   2.6       500  Free    0.0       Everyone   \n",
       "10836     4.5       38  53.0      5000  Free    0.0       Everyone   \n",
       "10837     5.0        4   3.6       100  Free    0.0       Everyone   \n",
       "10839     4.5      114  <NA>      1000  Free    0.0     Mature 17+   \n",
       "10840     4.5   398307  19.0  10000000  Free    0.0       Everyone   \n",
       "\n",
       "                          Genres      Last Updated         Current Ver  \\\n",
       "0                   Art & Design   January 7, 2018               1.0.0   \n",
       "1      Art & Design;Pretend Play  January 15, 2018               2.0.0   \n",
       "2                   Art & Design    August 1, 2018               1.2.4   \n",
       "3                   Art & Design      June 8, 2018  Varies with device   \n",
       "4        Art & Design;Creativity     June 20, 2018                 1.1   \n",
       "...                          ...               ...                 ...   \n",
       "10834                  Education     June 18, 2017               1.0.0   \n",
       "10836                  Education     July 25, 2017                1.48   \n",
       "10837                  Education      July 6, 2018                 1.0   \n",
       "10839          Books & Reference  January 19, 2015  Varies with device   \n",
       "10840                  Lifestyle     July 25, 2018  Varies with device   \n",
       "\n",
       "              Android Ver  Log Installs  Log Reviews  \n",
       "0            4.0.3 and up       9.21034     5.068904  \n",
       "1            4.0.3 and up     13.122363     6.874198  \n",
       "2            4.0.3 and up     15.424948    11.379508  \n",
       "3              4.2 and up     17.727534    12.281384  \n",
       "4              4.4 and up     11.512925     6.874198  \n",
       "...                   ...           ...          ...  \n",
       "10834          4.1 and up      6.214608      1.94591  \n",
       "10836          4.1 and up      8.517193     3.637586  \n",
       "10837          4.1 and up       4.60517     1.386294  \n",
       "10839  Varies with device      6.907755     4.736198  \n",
       "10840  Varies with device     16.118096    12.894978  \n",
       "\n",
       "[8892 rows x 15 columns]"
      ]
     },
     "execution_count": 15,
     "metadata": {},
     "output_type": "execute_result"
    }
   ],
   "source": [
    "apps_df.drop_duplicates()"
   ]
  },
  {
   "cell_type": "code",
   "execution_count": 16,
   "id": "e6828107",
   "metadata": {},
   "outputs": [
    {
     "data": {
      "application/vnd.microsoft.datawrangler.viewer.v0+json": {
       "columns": [
        {
         "name": "index",
         "rawType": "object",
         "type": "string"
        },
        {
         "name": "Rating",
         "rawType": "Float64",
         "type": "float"
        },
        {
         "name": "Reviews",
         "rawType": "Float64",
         "type": "float"
        },
        {
         "name": "Size",
         "rawType": "Float64",
         "type": "float"
        },
        {
         "name": "Installs",
         "rawType": "Float64",
         "type": "float"
        },
        {
         "name": "Price",
         "rawType": "Float64",
         "type": "float"
        },
        {
         "name": "Log Installs",
         "rawType": "Float64",
         "type": "float"
        },
        {
         "name": "Log Reviews",
         "rawType": "Float64",
         "type": "float"
        }
       ],
       "ref": "126f86a2-ac79-406f-a0e2-62bf72743a2c",
       "rows": [
        [
         "count",
         "8892.0",
         "8892.0",
         "7167.0",
         "8892.0",
         "8892.0",
         "8892.0",
         "8892.0"
        ],
        [
         "mean",
         "4.187876743139901",
         "472776.3671839856",
         "23.547955909027465",
         "16489648.148672964",
         "0.963154520917679",
         "12.179472445613838",
         "8.234892597330452"
        ],
        [
         "std",
         "0.5223767001082029",
         "2905051.7235918506",
         "23.460103149659016",
         "86376000.19027908",
         "16.18934098175176",
         "3.8373722687771457",
         "3.880199924912728"
        ],
        [
         "min",
         "1.0",
         "1.0",
         "1.0",
         "1.0",
         "0.0",
         "0.0",
         "0.0"
        ],
        [
         "25%",
         "4.0",
         "164.0",
         "5.7",
         "10000.0",
         "0.0",
         "9.210340371976184",
         "5.099866427824199"
        ],
        [
         "50%",
         "4.3",
         "4714.5",
         "15.0",
         "500000.0",
         "0.0",
         "13.122363377404328",
         "8.458397689368425"
        ],
        [
         "75%",
         "4.5",
         "71266.75",
         "34.0",
         "5000000.0",
         "0.0",
         "15.424948470398375",
         "11.174185158055284"
        ],
        [
         "max",
         "5.0",
         "78158306.0",
         "100.0",
         "1000000000.0",
         "400.0",
         "20.72326583694641",
         "18.174246891973652"
        ]
       ],
       "shape": {
        "columns": 7,
        "rows": 8
       }
      },
      "text/html": [
       "<div>\n",
       "<style scoped>\n",
       "    .dataframe tbody tr th:only-of-type {\n",
       "        vertical-align: middle;\n",
       "    }\n",
       "\n",
       "    .dataframe tbody tr th {\n",
       "        vertical-align: top;\n",
       "    }\n",
       "\n",
       "    .dataframe thead th {\n",
       "        text-align: right;\n",
       "    }\n",
       "</style>\n",
       "<table border=\"1\" class=\"dataframe\">\n",
       "  <thead>\n",
       "    <tr style=\"text-align: right;\">\n",
       "      <th></th>\n",
       "      <th>Rating</th>\n",
       "      <th>Reviews</th>\n",
       "      <th>Size</th>\n",
       "      <th>Installs</th>\n",
       "      <th>Price</th>\n",
       "      <th>Log Installs</th>\n",
       "      <th>Log Reviews</th>\n",
       "    </tr>\n",
       "  </thead>\n",
       "  <tbody>\n",
       "    <tr>\n",
       "      <th>count</th>\n",
       "      <td>8892.0</td>\n",
       "      <td>8892.0</td>\n",
       "      <td>7167.0</td>\n",
       "      <td>8892.0</td>\n",
       "      <td>8892.0</td>\n",
       "      <td>8892.0</td>\n",
       "      <td>8892.0</td>\n",
       "    </tr>\n",
       "    <tr>\n",
       "      <th>mean</th>\n",
       "      <td>4.187877</td>\n",
       "      <td>472776.367184</td>\n",
       "      <td>23.547956</td>\n",
       "      <td>16489648.148673</td>\n",
       "      <td>0.963155</td>\n",
       "      <td>12.179472</td>\n",
       "      <td>8.234893</td>\n",
       "    </tr>\n",
       "    <tr>\n",
       "      <th>std</th>\n",
       "      <td>0.522377</td>\n",
       "      <td>2905051.723592</td>\n",
       "      <td>23.460103</td>\n",
       "      <td>86376000.190279</td>\n",
       "      <td>16.189341</td>\n",
       "      <td>3.837372</td>\n",
       "      <td>3.8802</td>\n",
       "    </tr>\n",
       "    <tr>\n",
       "      <th>min</th>\n",
       "      <td>1.0</td>\n",
       "      <td>1.0</td>\n",
       "      <td>1.0</td>\n",
       "      <td>1.0</td>\n",
       "      <td>0.0</td>\n",
       "      <td>0.0</td>\n",
       "      <td>0.0</td>\n",
       "    </tr>\n",
       "    <tr>\n",
       "      <th>25%</th>\n",
       "      <td>4.0</td>\n",
       "      <td>164.0</td>\n",
       "      <td>5.7</td>\n",
       "      <td>10000.0</td>\n",
       "      <td>0.0</td>\n",
       "      <td>9.21034</td>\n",
       "      <td>5.099866</td>\n",
       "    </tr>\n",
       "    <tr>\n",
       "      <th>50%</th>\n",
       "      <td>4.3</td>\n",
       "      <td>4714.5</td>\n",
       "      <td>15.0</td>\n",
       "      <td>500000.0</td>\n",
       "      <td>0.0</td>\n",
       "      <td>13.122363</td>\n",
       "      <td>8.458398</td>\n",
       "    </tr>\n",
       "    <tr>\n",
       "      <th>75%</th>\n",
       "      <td>4.5</td>\n",
       "      <td>71266.75</td>\n",
       "      <td>34.0</td>\n",
       "      <td>5000000.0</td>\n",
       "      <td>0.0</td>\n",
       "      <td>15.424948</td>\n",
       "      <td>11.174185</td>\n",
       "    </tr>\n",
       "    <tr>\n",
       "      <th>max</th>\n",
       "      <td>5.0</td>\n",
       "      <td>78158306.0</td>\n",
       "      <td>100.0</td>\n",
       "      <td>1000000000.0</td>\n",
       "      <td>400.0</td>\n",
       "      <td>20.723266</td>\n",
       "      <td>18.174247</td>\n",
       "    </tr>\n",
       "  </tbody>\n",
       "</table>\n",
       "</div>"
      ],
      "text/plain": [
       "         Rating         Reviews       Size         Installs      Price  \\\n",
       "count    8892.0          8892.0     7167.0           8892.0     8892.0   \n",
       "mean   4.187877   472776.367184  23.547956  16489648.148673   0.963155   \n",
       "std    0.522377  2905051.723592  23.460103  86376000.190279  16.189341   \n",
       "min         1.0             1.0        1.0              1.0        0.0   \n",
       "25%         4.0           164.0        5.7          10000.0        0.0   \n",
       "50%         4.3          4714.5       15.0         500000.0        0.0   \n",
       "75%         4.5        71266.75       34.0        5000000.0        0.0   \n",
       "max         5.0      78158306.0      100.0     1000000000.0      400.0   \n",
       "\n",
       "       Log Installs  Log Reviews  \n",
       "count        8892.0       8892.0  \n",
       "mean      12.179472     8.234893  \n",
       "std        3.837372       3.8802  \n",
       "min             0.0          0.0  \n",
       "25%         9.21034     5.099866  \n",
       "50%       13.122363     8.458398  \n",
       "75%       15.424948    11.174185  \n",
       "max       20.723266    18.174247  "
      ]
     },
     "execution_count": 16,
     "metadata": {},
     "output_type": "execute_result"
    }
   ],
   "source": [
    "apps_df.describe()"
   ]
  },
  {
   "cell_type": "code",
   "execution_count": 17,
   "id": "29a31530",
   "metadata": {},
   "outputs": [
    {
     "data": {
      "application/vnd.microsoft.datawrangler.viewer.v0+json": {
       "columns": [
        {
         "name": "index",
         "rawType": "object",
         "type": "string"
        },
        {
         "name": "0",
         "rawType": "int64",
         "type": "integer"
        }
       ],
       "ref": "f8d6b9cd-afa0-46c9-aad9-98c6d226a833",
       "rows": [
        [
         "App",
         "0"
        ],
        [
         "Category",
         "0"
        ],
        [
         "Rating",
         "0"
        ],
        [
         "Reviews",
         "0"
        ],
        [
         "Size",
         "1725"
        ],
        [
         "Installs",
         "0"
        ],
        [
         "Type",
         "0"
        ],
        [
         "Price",
         "0"
        ],
        [
         "Content Rating",
         "0"
        ],
        [
         "Genres",
         "0"
        ],
        [
         "Last Updated",
         "0"
        ],
        [
         "Current Ver",
         "0"
        ],
        [
         "Android Ver",
         "0"
        ],
        [
         "Log Installs",
         "0"
        ],
        [
         "Log Reviews",
         "0"
        ]
       ],
       "shape": {
        "columns": 1,
        "rows": 15
       }
      },
      "text/plain": [
       "App                  0\n",
       "Category             0\n",
       "Rating               0\n",
       "Reviews              0\n",
       "Size              1725\n",
       "Installs             0\n",
       "Type                 0\n",
       "Price                0\n",
       "Content Rating       0\n",
       "Genres               0\n",
       "Last Updated         0\n",
       "Current Ver          0\n",
       "Android Ver          0\n",
       "Log Installs         0\n",
       "Log Reviews          0\n",
       "dtype: int64"
      ]
     },
     "execution_count": 17,
     "metadata": {},
     "output_type": "execute_result"
    }
   ],
   "source": [
    "apps_df.isna().sum()"
   ]
  },
  {
   "cell_type": "code",
   "execution_count": 18,
   "id": "5b7abf9c",
   "metadata": {},
   "outputs": [
    {
     "name": "stdout",
     "output_type": "stream",
     "text": [
      "<class 'pandas.core.frame.DataFrame'>\n",
      "Index: 8892 entries, 0 to 10840\n",
      "Data columns (total 15 columns):\n",
      " #   Column          Non-Null Count  Dtype  \n",
      "---  ------          --------------  -----  \n",
      " 0   App             8892 non-null   string \n",
      " 1   Category        8892 non-null   string \n",
      " 2   Rating          8892 non-null   Float64\n",
      " 3   Reviews         8892 non-null   Int64  \n",
      " 4   Size            7167 non-null   Float64\n",
      " 5   Installs        8892 non-null   Int64  \n",
      " 6   Type            8892 non-null   string \n",
      " 7   Price           8892 non-null   Float64\n",
      " 8   Content Rating  8892 non-null   string \n",
      " 9   Genres          8892 non-null   string \n",
      " 10  Last Updated    8892 non-null   string \n",
      " 11  Current Ver     8892 non-null   string \n",
      " 12  Android Ver     8892 non-null   string \n",
      " 13  Log Installs    8892 non-null   Float64\n",
      " 14  Log Reviews     8892 non-null   Float64\n",
      "dtypes: Float64(5), Int64(2), string(8)\n",
      "memory usage: 1.1 MB\n"
     ]
    }
   ],
   "source": [
    "apps_df.info()"
   ]
  },
  {
   "cell_type": "markdown",
   "id": "7e15fe5a",
   "metadata": {},
   "source": [
    "### Data Wrangling of reviews_df"
   ]
  },
  {
   "cell_type": "code",
   "execution_count": 19,
   "id": "97c3f7db",
   "metadata": {},
   "outputs": [
    {
     "data": {
      "application/vnd.microsoft.datawrangler.viewer.v0+json": {
       "columns": [
        {
         "name": "index",
         "rawType": "int64",
         "type": "integer"
        },
        {
         "name": "App",
         "rawType": "object",
         "type": "string"
        },
        {
         "name": "Translated_Review",
         "rawType": "object",
         "type": "unknown"
        },
        {
         "name": "Sentiment",
         "rawType": "object",
         "type": "unknown"
        },
        {
         "name": "Sentiment_Polarity",
         "rawType": "float64",
         "type": "float"
        },
        {
         "name": "Sentiment_Subjectivity",
         "rawType": "float64",
         "type": "float"
        }
       ],
       "ref": "313205e9-6f73-496e-89be-8d54dab58047",
       "rows": [
        [
         "0",
         "10 Best Foods for You",
         "I like eat delicious food. That's I'm cooking food myself, case \"10 Best Foods\" helps lot, also \"Best Before (Shelf Life)\"",
         "Positive",
         "1.0",
         "0.5333333333333333"
        ],
        [
         "1",
         "10 Best Foods for You",
         "This help eating healthy exercise regular basis",
         "Positive",
         "0.25",
         "0.2884615384615384"
        ],
        [
         "2",
         "10 Best Foods for You",
         null,
         null,
         null,
         null
        ],
        [
         "3",
         "10 Best Foods for You",
         "Works great especially going grocery store",
         "Positive",
         "0.4",
         "0.875"
        ],
        [
         "4",
         "10 Best Foods for You",
         "Best idea us",
         "Positive",
         "1.0",
         "0.3"
        ]
       ],
       "shape": {
        "columns": 5,
        "rows": 5
       }
      },
      "text/html": [
       "<div>\n",
       "<style scoped>\n",
       "    .dataframe tbody tr th:only-of-type {\n",
       "        vertical-align: middle;\n",
       "    }\n",
       "\n",
       "    .dataframe tbody tr th {\n",
       "        vertical-align: top;\n",
       "    }\n",
       "\n",
       "    .dataframe thead th {\n",
       "        text-align: right;\n",
       "    }\n",
       "</style>\n",
       "<table border=\"1\" class=\"dataframe\">\n",
       "  <thead>\n",
       "    <tr style=\"text-align: right;\">\n",
       "      <th></th>\n",
       "      <th>App</th>\n",
       "      <th>Translated_Review</th>\n",
       "      <th>Sentiment</th>\n",
       "      <th>Sentiment_Polarity</th>\n",
       "      <th>Sentiment_Subjectivity</th>\n",
       "    </tr>\n",
       "  </thead>\n",
       "  <tbody>\n",
       "    <tr>\n",
       "      <th>0</th>\n",
       "      <td>10 Best Foods for You</td>\n",
       "      <td>I like eat delicious food. That's I'm cooking ...</td>\n",
       "      <td>Positive</td>\n",
       "      <td>1.00</td>\n",
       "      <td>0.533333</td>\n",
       "    </tr>\n",
       "    <tr>\n",
       "      <th>1</th>\n",
       "      <td>10 Best Foods for You</td>\n",
       "      <td>This help eating healthy exercise regular basis</td>\n",
       "      <td>Positive</td>\n",
       "      <td>0.25</td>\n",
       "      <td>0.288462</td>\n",
       "    </tr>\n",
       "    <tr>\n",
       "      <th>2</th>\n",
       "      <td>10 Best Foods for You</td>\n",
       "      <td>NaN</td>\n",
       "      <td>NaN</td>\n",
       "      <td>NaN</td>\n",
       "      <td>NaN</td>\n",
       "    </tr>\n",
       "    <tr>\n",
       "      <th>3</th>\n",
       "      <td>10 Best Foods for You</td>\n",
       "      <td>Works great especially going grocery store</td>\n",
       "      <td>Positive</td>\n",
       "      <td>0.40</td>\n",
       "      <td>0.875000</td>\n",
       "    </tr>\n",
       "    <tr>\n",
       "      <th>4</th>\n",
       "      <td>10 Best Foods for You</td>\n",
       "      <td>Best idea us</td>\n",
       "      <td>Positive</td>\n",
       "      <td>1.00</td>\n",
       "      <td>0.300000</td>\n",
       "    </tr>\n",
       "  </tbody>\n",
       "</table>\n",
       "</div>"
      ],
      "text/plain": [
       "                     App                                  Translated_Review  \\\n",
       "0  10 Best Foods for You  I like eat delicious food. That's I'm cooking ...   \n",
       "1  10 Best Foods for You    This help eating healthy exercise regular basis   \n",
       "2  10 Best Foods for You                                                NaN   \n",
       "3  10 Best Foods for You         Works great especially going grocery store   \n",
       "4  10 Best Foods for You                                       Best idea us   \n",
       "\n",
       "  Sentiment  Sentiment_Polarity  Sentiment_Subjectivity  \n",
       "0  Positive                1.00                0.533333  \n",
       "1  Positive                0.25                0.288462  \n",
       "2       NaN                 NaN                     NaN  \n",
       "3  Positive                0.40                0.875000  \n",
       "4  Positive                1.00                0.300000  "
      ]
     },
     "execution_count": 19,
     "metadata": {},
     "output_type": "execute_result"
    }
   ],
   "source": [
    "review_df.head()"
   ]
  },
  {
   "cell_type": "code",
   "execution_count": 20,
   "id": "a732b06b",
   "metadata": {},
   "outputs": [
    {
     "name": "stdout",
     "output_type": "stream",
     "text": [
      "<class 'pandas.core.frame.DataFrame'>\n",
      "RangeIndex: 64295 entries, 0 to 64294\n",
      "Data columns (total 5 columns):\n",
      " #   Column                  Non-Null Count  Dtype  \n",
      "---  ------                  --------------  -----  \n",
      " 0   App                     64295 non-null  object \n",
      " 1   Translated_Review       37427 non-null  object \n",
      " 2   Sentiment               37432 non-null  object \n",
      " 3   Sentiment_Polarity      37432 non-null  float64\n",
      " 4   Sentiment_Subjectivity  37432 non-null  float64\n",
      "dtypes: float64(2), object(3)\n",
      "memory usage: 2.5+ MB\n"
     ]
    }
   ],
   "source": [
    "review_df.info()"
   ]
  },
  {
   "cell_type": "code",
   "execution_count": 21,
   "id": "5bda1fc9",
   "metadata": {},
   "outputs": [
    {
     "data": {
      "application/vnd.microsoft.datawrangler.viewer.v0+json": {
       "columns": [
        {
         "name": "index",
         "rawType": "object",
         "type": "string"
        },
        {
         "name": "0",
         "rawType": "int64",
         "type": "integer"
        }
       ],
       "ref": "26f99a0f-7652-4061-9317-e7cde6d5d3c5",
       "rows": [
        [
         "App",
         "0"
        ],
        [
         "Translated_Review",
         "26868"
        ],
        [
         "Sentiment",
         "26863"
        ],
        [
         "Sentiment_Polarity",
         "26863"
        ],
        [
         "Sentiment_Subjectivity",
         "26863"
        ]
       ],
       "shape": {
        "columns": 1,
        "rows": 5
       }
      },
      "text/plain": [
       "App                           0\n",
       "Translated_Review         26868\n",
       "Sentiment                 26863\n",
       "Sentiment_Polarity        26863\n",
       "Sentiment_Subjectivity    26863\n",
       "dtype: int64"
      ]
     },
     "execution_count": 21,
     "metadata": {},
     "output_type": "execute_result"
    }
   ],
   "source": [
    "review_df.isna().sum()"
   ]
  },
  {
   "cell_type": "code",
   "execution_count": 22,
   "id": "704d64f5",
   "metadata": {},
   "outputs": [],
   "source": [
    "review_df = review_df.dropna()"
   ]
  },
  {
   "cell_type": "code",
   "execution_count": 23,
   "id": "c85911ad",
   "metadata": {},
   "outputs": [],
   "source": [
    "review_df = review_df.convert_dtypes()"
   ]
  },
  {
   "cell_type": "code",
   "execution_count": 24,
   "id": "2cc3c499",
   "metadata": {},
   "outputs": [
    {
     "data": {
      "application/vnd.microsoft.datawrangler.viewer.v0+json": {
       "columns": [
        {
         "name": "index",
         "rawType": "int64",
         "type": "integer"
        },
        {
         "name": "App",
         "rawType": "string",
         "type": "string"
        },
        {
         "name": "Translated_Review",
         "rawType": "string",
         "type": "string"
        },
        {
         "name": "Sentiment",
         "rawType": "string",
         "type": "string"
        },
        {
         "name": "Sentiment_Polarity",
         "rawType": "Float64",
         "type": "float"
        },
        {
         "name": "Sentiment_Subjectivity",
         "rawType": "Float64",
         "type": "float"
        }
       ],
       "ref": "49062e11-a3b9-4c79-bd68-d0c014ad9106",
       "rows": [
        [
         "0",
         "10 Best Foods for You",
         "I like eat delicious food. That's I'm cooking food myself, case \"10 Best Foods\" helps lot, also \"Best Before (Shelf Life)\"",
         "Positive",
         "1.0",
         "0.5333333333333333"
        ],
        [
         "1",
         "10 Best Foods for You",
         "This help eating healthy exercise regular basis",
         "Positive",
         "0.25",
         "0.2884615384615384"
        ],
        [
         "3",
         "10 Best Foods for You",
         "Works great especially going grocery store",
         "Positive",
         "0.4",
         "0.875"
        ],
        [
         "4",
         "10 Best Foods for You",
         "Best idea us",
         "Positive",
         "1.0",
         "0.3"
        ],
        [
         "5",
         "10 Best Foods for You",
         "Best way",
         "Positive",
         "1.0",
         "0.3"
        ],
        [
         "6",
         "10 Best Foods for You",
         "Amazing",
         "Positive",
         "0.6000000000000001",
         "0.9"
        ],
        [
         "8",
         "10 Best Foods for You",
         "Looking forward app,",
         "Neutral",
         "0.0",
         "0.0"
        ],
        [
         "9",
         "10 Best Foods for You",
         "It helpful site ! It help foods get !",
         "Neutral",
         "0.0",
         "0.0"
        ],
        [
         "10",
         "10 Best Foods for You",
         "good you.",
         "Positive",
         "0.7",
         "0.6000000000000001"
        ],
        [
         "11",
         "10 Best Foods for You",
         "Useful information The amount spelling errors questions validity information shared. Once fixed, 5 stars given.",
         "Positive",
         "0.2",
         "0.1"
        ],
        [
         "12",
         "10 Best Foods for You",
         "Thank you! Great app!! Add arthritis, eyes, immunity, kidney/liver detox foods please. :)",
         "Positive",
         "0.75",
         "0.875"
        ],
        [
         "13",
         "10 Best Foods for You",
         "Greatest ever Completely awesome maintain health.... This must ppl there... Love it!!!",
         "Positive",
         "0.9921875",
         "0.8666666666666667"
        ],
        [
         "14",
         "10 Best Foods for You",
         "Good health...... Good health first priority.......",
         "Positive",
         "0.5499999999999999",
         "0.5111111111111112"
        ],
        [
         "16",
         "10 Best Foods for You",
         "Health It's important world either life . think? :)",
         "Positive",
         "0.45",
         "1.0"
        ],
        [
         "17",
         "10 Best Foods for You",
         "Mrs sunita bhati I thankful developers,to make kind app, really good healthy food body",
         "Positive",
         "0.6",
         "0.6666666666666666"
        ],
        [
         "18",
         "10 Best Foods for You",
         "Very Useful in diabetes age 30. I need control sugar. thanks",
         "Positive",
         "0.295",
         "0.1"
        ],
        [
         "19",
         "10 Best Foods for You",
         "One greatest apps.",
         "Positive",
         "1.0",
         "1.0"
        ],
        [
         "20",
         "10 Best Foods for You",
         "good nice",
         "Positive",
         "0.6499999999999999",
         "0.8"
        ],
        [
         "21",
         "10 Best Foods for You",
         "Healthy Really helped",
         "Positive",
         "0.35",
         "0.35"
        ],
        [
         "22",
         "10 Best Foods for You",
         "God health",
         "Neutral",
         "0.0",
         "0.0"
        ],
        [
         "23",
         "10 Best Foods for You",
         "HEALTH SHOULD ALWAYS BE TOP PRIORITY. !!. ON MYSG5.",
         "Positive",
         "0.78125",
         "0.5"
        ],
        [
         "24",
         "10 Best Foods for You",
         "An excellent A useful",
         "Positive",
         "0.65",
         "0.5"
        ],
        [
         "25",
         "10 Best Foods for You",
         "I found lot wealth form health...",
         "Neutral",
         "0.0",
         "0.0"
        ],
        [
         "26",
         "10 Best Foods for You",
         "Because I found important.",
         "Positive",
         "0.4",
         "1.0"
        ],
        [
         "27",
         "10 Best Foods for You",
         "Healthy Eating",
         "Positive",
         "0.5",
         "0.5"
        ],
        [
         "28",
         "10 Best Foods for You",
         "Very good Simply good",
         "Positive",
         "0.8049999999999999",
         "0.6900000000000002"
        ],
        [
         "29",
         "10 Best Foods for You",
         "On test....",
         "Neutral",
         "0.0",
         "0.0"
        ],
        [
         "30",
         "10 Best Foods for You",
         "Good.!!",
         "Positive",
         "1.0",
         "0.6000000000000001"
        ],
        [
         "31",
         "10 Best Foods for You",
         "Thanks advice. Downloaded Adobe reader still can't get recipe book?..",
         "Positive",
         "0.2",
         "0.2"
        ],
        [
         "32",
         "10 Best Foods for You",
         "No recipe book Unable recipe book.",
         "Negative",
         "-0.5",
         "0.5"
        ],
        [
         "33",
         "10 Best Foods for You",
         "Absolutely Fabulous Phenomenal",
         "Positive",
         "0.45",
         "0.75"
        ],
        [
         "34",
         "10 Best Foods for You",
         "Great Love food",
         "Positive",
         "0.65",
         "0.675"
        ],
        [
         "35",
         "10 Best Foods for You",
         "Excellent It really works",
         "Positive",
         "0.6",
         "0.6"
        ],
        [
         "36",
         "10 Best Foods for You",
         "Best",
         "Positive",
         "1.0",
         "0.3"
        ],
        [
         "37",
         "10 Best Foods for You",
         "WEALTH OF INFORMATION Very informative ... easy understand. (The ads middle page interupted read). Update: My \"ad comment\" NOT objection ads, literally position ads. Smack dab MIDDLE. I new spartphones & apps. Didnt know NOT Click eveything I saw... But, ... Full Review",
         "Positive",
         "0.1866161616161616",
         "0.3563131313131313"
        ],
        [
         "38",
         "10 Best Foods for You",
         "Not description good",
         "Positive",
         "0.7",
         "0.6000000000000001"
        ],
        [
         "39",
         "10 Best Foods for You",
         "Great app. Love",
         "Positive",
         "0.65",
         "0.675"
        ],
        [
         "40",
         "10 Best Foods for You",
         "Good",
         "Positive",
         "0.7",
         "0.6000000000000001"
        ],
        [
         "41",
         "10 Best Foods for You",
         "Loved Very helpful",
         "Positive",
         "0.4499999999999999",
         "0.55"
        ],
        [
         "42",
         "10 Best Foods for You",
         "Good healthy foods.",
         "Positive",
         "0.6",
         "0.55"
        ],
        [
         "43",
         "10 Best Foods for You",
         "Waste time It needs internet time n ask calls information",
         "Negative",
         "-0.2",
         "0.0"
        ],
        [
         "44",
         "10 Best Foods for You",
         "Best thing I lost ten lbs. two months help tips",
         "Positive",
         "0.5",
         "0.15"
        ],
        [
         "45",
         "10 Best Foods for You",
         "Ten best food promote good health Good health essential long healthy lifestyle make habit eat foods promote good health. Eat fruits veggies every day.",
         "Positive",
         "0.44375",
         "0.4125"
        ],
        [
         "46",
         "10 Best Foods for You",
         "Healthy Food Really good information eat healthy",
         "Positive",
         "0.5666666666666667",
         "0.5333333333333333"
        ],
        [
         "47",
         "10 Best Foods for You",
         "My mom dad important thing This good share",
         "Positive",
         "0.55",
         "0.8"
        ],
        [
         "48",
         "10 Best Foods for You",
         "A big thanks ds I got bst gd health",
         "Positive",
         "0.1",
         "0.15"
        ],
        [
         "49",
         "10 Best Foods for You",
         "Lovely Best everyone needs",
         "Positive",
         "0.75",
         "0.525"
        ],
        [
         "50",
         "10 Best Foods for You",
         "Love It I lost 6Pounds far 215 209",
         "Positive",
         "0.3",
         "0.8"
        ],
        [
         "51",
         "10 Best Foods for You",
         "I like",
         "Neutral",
         "0.0",
         "0.0"
        ],
        [
         "52",
         "10 Best Foods for You",
         "Thanks helpful app.",
         "Positive",
         "0.2",
         "0.2"
        ]
       ],
       "shape": {
        "columns": 5,
        "rows": 29692
       }
      },
      "text/html": [
       "<div>\n",
       "<style scoped>\n",
       "    .dataframe tbody tr th:only-of-type {\n",
       "        vertical-align: middle;\n",
       "    }\n",
       "\n",
       "    .dataframe tbody tr th {\n",
       "        vertical-align: top;\n",
       "    }\n",
       "\n",
       "    .dataframe thead th {\n",
       "        text-align: right;\n",
       "    }\n",
       "</style>\n",
       "<table border=\"1\" class=\"dataframe\">\n",
       "  <thead>\n",
       "    <tr style=\"text-align: right;\">\n",
       "      <th></th>\n",
       "      <th>App</th>\n",
       "      <th>Translated_Review</th>\n",
       "      <th>Sentiment</th>\n",
       "      <th>Sentiment_Polarity</th>\n",
       "      <th>Sentiment_Subjectivity</th>\n",
       "    </tr>\n",
       "  </thead>\n",
       "  <tbody>\n",
       "    <tr>\n",
       "      <th>0</th>\n",
       "      <td>10 Best Foods for You</td>\n",
       "      <td>I like eat delicious food. That's I'm cooking ...</td>\n",
       "      <td>Positive</td>\n",
       "      <td>1.0</td>\n",
       "      <td>0.533333</td>\n",
       "    </tr>\n",
       "    <tr>\n",
       "      <th>1</th>\n",
       "      <td>10 Best Foods for You</td>\n",
       "      <td>This help eating healthy exercise regular basis</td>\n",
       "      <td>Positive</td>\n",
       "      <td>0.25</td>\n",
       "      <td>0.288462</td>\n",
       "    </tr>\n",
       "    <tr>\n",
       "      <th>3</th>\n",
       "      <td>10 Best Foods for You</td>\n",
       "      <td>Works great especially going grocery store</td>\n",
       "      <td>Positive</td>\n",
       "      <td>0.4</td>\n",
       "      <td>0.875</td>\n",
       "    </tr>\n",
       "    <tr>\n",
       "      <th>4</th>\n",
       "      <td>10 Best Foods for You</td>\n",
       "      <td>Best idea us</td>\n",
       "      <td>Positive</td>\n",
       "      <td>1.0</td>\n",
       "      <td>0.3</td>\n",
       "    </tr>\n",
       "    <tr>\n",
       "      <th>5</th>\n",
       "      <td>10 Best Foods for You</td>\n",
       "      <td>Best way</td>\n",
       "      <td>Positive</td>\n",
       "      <td>1.0</td>\n",
       "      <td>0.3</td>\n",
       "    </tr>\n",
       "    <tr>\n",
       "      <th>...</th>\n",
       "      <td>...</td>\n",
       "      <td>...</td>\n",
       "      <td>...</td>\n",
       "      <td>...</td>\n",
       "      <td>...</td>\n",
       "    </tr>\n",
       "    <tr>\n",
       "      <th>64222</th>\n",
       "      <td>Housing-Real Estate &amp; Property</td>\n",
       "      <td>Most ads older many agents ..not much owner po...</td>\n",
       "      <td>Positive</td>\n",
       "      <td>0.173333</td>\n",
       "      <td>0.486667</td>\n",
       "    </tr>\n",
       "    <tr>\n",
       "      <th>64223</th>\n",
       "      <td>Housing-Real Estate &amp; Property</td>\n",
       "      <td>If photos posted portal load, fit purpose. I'm...</td>\n",
       "      <td>Positive</td>\n",
       "      <td>0.225</td>\n",
       "      <td>0.447222</td>\n",
       "    </tr>\n",
       "    <tr>\n",
       "      <th>64226</th>\n",
       "      <td>Housing-Real Estate &amp; Property</td>\n",
       "      <td>Dumb app, I wanted post property rent give opt...</td>\n",
       "      <td>Negative</td>\n",
       "      <td>-0.2875</td>\n",
       "      <td>0.25</td>\n",
       "    </tr>\n",
       "    <tr>\n",
       "      <th>64227</th>\n",
       "      <td>Housing-Real Estate &amp; Property</td>\n",
       "      <td>I property business got link SMS happy perform...</td>\n",
       "      <td>Positive</td>\n",
       "      <td>0.8</td>\n",
       "      <td>1.0</td>\n",
       "    </tr>\n",
       "    <tr>\n",
       "      <th>64230</th>\n",
       "      <td>Housing-Real Estate &amp; Property</td>\n",
       "      <td>Useless app, I searched flats kondapur, Hydera...</td>\n",
       "      <td>Negative</td>\n",
       "      <td>-0.316667</td>\n",
       "      <td>0.4</td>\n",
       "    </tr>\n",
       "  </tbody>\n",
       "</table>\n",
       "<p>29692 rows × 5 columns</p>\n",
       "</div>"
      ],
      "text/plain": [
       "                                  App  \\\n",
       "0               10 Best Foods for You   \n",
       "1               10 Best Foods for You   \n",
       "3               10 Best Foods for You   \n",
       "4               10 Best Foods for You   \n",
       "5               10 Best Foods for You   \n",
       "...                               ...   \n",
       "64222  Housing-Real Estate & Property   \n",
       "64223  Housing-Real Estate & Property   \n",
       "64226  Housing-Real Estate & Property   \n",
       "64227  Housing-Real Estate & Property   \n",
       "64230  Housing-Real Estate & Property   \n",
       "\n",
       "                                       Translated_Review Sentiment  \\\n",
       "0      I like eat delicious food. That's I'm cooking ...  Positive   \n",
       "1        This help eating healthy exercise regular basis  Positive   \n",
       "3             Works great especially going grocery store  Positive   \n",
       "4                                           Best idea us  Positive   \n",
       "5                                               Best way  Positive   \n",
       "...                                                  ...       ...   \n",
       "64222  Most ads older many agents ..not much owner po...  Positive   \n",
       "64223  If photos posted portal load, fit purpose. I'm...  Positive   \n",
       "64226  Dumb app, I wanted post property rent give opt...  Negative   \n",
       "64227  I property business got link SMS happy perform...  Positive   \n",
       "64230  Useless app, I searched flats kondapur, Hydera...  Negative   \n",
       "\n",
       "       Sentiment_Polarity  Sentiment_Subjectivity  \n",
       "0                     1.0                0.533333  \n",
       "1                    0.25                0.288462  \n",
       "3                     0.4                   0.875  \n",
       "4                     1.0                     0.3  \n",
       "5                     1.0                     0.3  \n",
       "...                   ...                     ...  \n",
       "64222            0.173333                0.486667  \n",
       "64223               0.225                0.447222  \n",
       "64226             -0.2875                    0.25  \n",
       "64227                 0.8                     1.0  \n",
       "64230           -0.316667                     0.4  \n",
       "\n",
       "[29692 rows x 5 columns]"
      ]
     },
     "execution_count": 24,
     "metadata": {},
     "output_type": "execute_result"
    }
   ],
   "source": [
    "review_df.drop_duplicates()"
   ]
  },
  {
   "cell_type": "code",
   "execution_count": 25,
   "id": "cb236878",
   "metadata": {},
   "outputs": [
    {
     "name": "stdout",
     "output_type": "stream",
     "text": [
      "<class 'pandas.core.frame.DataFrame'>\n",
      "Index: 37427 entries, 0 to 64230\n",
      "Data columns (total 5 columns):\n",
      " #   Column                  Non-Null Count  Dtype  \n",
      "---  ------                  --------------  -----  \n",
      " 0   App                     37427 non-null  string \n",
      " 1   Translated_Review       37427 non-null  string \n",
      " 2   Sentiment               37427 non-null  string \n",
      " 3   Sentiment_Polarity      37427 non-null  Float64\n",
      " 4   Sentiment_Subjectivity  37427 non-null  Float64\n",
      "dtypes: Float64(2), string(3)\n",
      "memory usage: 1.8 MB\n"
     ]
    }
   ],
   "source": [
    "review_df.info()"
   ]
  },
  {
   "cell_type": "code",
   "execution_count": 26,
   "id": "433d64fe",
   "metadata": {},
   "outputs": [
    {
     "data": {
      "application/vnd.microsoft.datawrangler.viewer.v0+json": {
       "columns": [
        {
         "name": "index",
         "rawType": "object",
         "type": "string"
        },
        {
         "name": "0",
         "rawType": "int64",
         "type": "integer"
        }
       ],
       "ref": "1ff57d63-401b-42f6-8db6-4eaea9914bb2",
       "rows": [
        [
         "App",
         "0"
        ],
        [
         "Translated_Review",
         "0"
        ],
        [
         "Sentiment",
         "0"
        ],
        [
         "Sentiment_Polarity",
         "0"
        ],
        [
         "Sentiment_Subjectivity",
         "0"
        ]
       ],
       "shape": {
        "columns": 1,
        "rows": 5
       }
      },
      "text/plain": [
       "App                       0\n",
       "Translated_Review         0\n",
       "Sentiment                 0\n",
       "Sentiment_Polarity        0\n",
       "Sentiment_Subjectivity    0\n",
       "dtype: int64"
      ]
     },
     "execution_count": 26,
     "metadata": {},
     "output_type": "execute_result"
    }
   ],
   "source": [
    "review_df.isna().sum()"
   ]
  }
 ],
 "metadata": {
  "kernelspec": {
   "display_name": "venv",
   "language": "python",
   "name": "python3"
  },
  "language_info": {
   "codemirror_mode": {
    "name": "ipython",
    "version": 3
   },
   "file_extension": ".py",
   "mimetype": "text/x-python",
   "name": "python",
   "nbconvert_exporter": "python",
   "pygments_lexer": "ipython3",
   "version": "3.13.3"
  }
 },
 "nbformat": 4,
 "nbformat_minor": 5
}
